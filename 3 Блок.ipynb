{
 "cells": [
  {
   "cell_type": "code",
   "execution_count": 2,
   "id": "af5afc1f",
   "metadata": {},
   "outputs": [],
   "source": [
    "import pandas as pd\n",
    "import numpy as np \n",
    "from sklearn.linear_model import LinearRegression\n",
    "from sklearn.model_selection import train_test_split\n",
    "from sklearn.naive_bayes import GaussianNB\n",
    "from sklearn.model_selection import cross_val_score\n",
    "from sklearn.metrics import accuracy_score\n",
    "from sklearn.neighbors import KNeighborsClassifier"
   ]
  },
  {
   "cell_type": "code",
   "execution_count": 3,
   "id": "7dca16c8",
   "metadata": {},
   "outputs": [
    {
     "data": {
      "text/html": [
       "<div>\n",
       "<style scoped>\n",
       "    .dataframe tbody tr th:only-of-type {\n",
       "        vertical-align: middle;\n",
       "    }\n",
       "\n",
       "    .dataframe tbody tr th {\n",
       "        vertical-align: top;\n",
       "    }\n",
       "\n",
       "    .dataframe thead th {\n",
       "        text-align: right;\n",
       "    }\n",
       "</style>\n",
       "<table border=\"1\" class=\"dataframe\">\n",
       "  <thead>\n",
       "    <tr style=\"text-align: right;\">\n",
       "      <th></th>\n",
       "      <th>job_title</th>\n",
       "      <th>hh_title</th>\n",
       "      <th>age</th>\n",
       "      <th>salary</th>\n",
       "      <th>exp. period</th>\n",
       "      <th>title of exp.</th>\n",
       "    </tr>\n",
       "  </thead>\n",
       "  <tbody>\n",
       "    <tr>\n",
       "      <th>0</th>\n",
       "      <td>data analyst</td>\n",
       "      <td>Data analyst</td>\n",
       "      <td>22.0</td>\n",
       "      <td>NaN</td>\n",
       "      <td>2.67</td>\n",
       "      <td>Data Analyst</td>\n",
       "    </tr>\n",
       "    <tr>\n",
       "      <th>1</th>\n",
       "      <td>data analyst</td>\n",
       "      <td>Data Analyst</td>\n",
       "      <td>21.0</td>\n",
       "      <td>NaN</td>\n",
       "      <td>0.83</td>\n",
       "      <td>Junior Data Analyst</td>\n",
       "    </tr>\n",
       "    <tr>\n",
       "      <th>2</th>\n",
       "      <td>data analyst</td>\n",
       "      <td>Data Analyst</td>\n",
       "      <td>30.0</td>\n",
       "      <td>NaN</td>\n",
       "      <td>7.50</td>\n",
       "      <td>Data Analyst</td>\n",
       "    </tr>\n",
       "    <tr>\n",
       "      <th>3</th>\n",
       "      <td>data analyst</td>\n",
       "      <td>Data Analyst</td>\n",
       "      <td>24.0</td>\n",
       "      <td>NaN</td>\n",
       "      <td>4.92</td>\n",
       "      <td>Data Analyst</td>\n",
       "    </tr>\n",
       "    <tr>\n",
       "      <th>4</th>\n",
       "      <td>data analyst</td>\n",
       "      <td>Data Analyst</td>\n",
       "      <td>27.0</td>\n",
       "      <td>450000.0</td>\n",
       "      <td>3.25</td>\n",
       "      <td>Business Intelligence Analyst</td>\n",
       "    </tr>\n",
       "    <tr>\n",
       "      <th>...</th>\n",
       "      <td>...</td>\n",
       "      <td>...</td>\n",
       "      <td>...</td>\n",
       "      <td>...</td>\n",
       "      <td>...</td>\n",
       "      <td>...</td>\n",
       "    </tr>\n",
       "    <tr>\n",
       "      <th>995</th>\n",
       "      <td>sql</td>\n",
       "      <td>Программист разработчик  эксперт по внедрению ...</td>\n",
       "      <td>51.0</td>\n",
       "      <td>NaN</td>\n",
       "      <td>25.42</td>\n",
       "      <td>Главный специалист Отдела перспективных технол...</td>\n",
       "    </tr>\n",
       "    <tr>\n",
       "      <th>996</th>\n",
       "      <td>sql</td>\n",
       "      <td>Программист-разработчик</td>\n",
       "      <td>22.0</td>\n",
       "      <td>NaN</td>\n",
       "      <td>1.58</td>\n",
       "      <td>Full Stack</td>\n",
       "    </tr>\n",
       "    <tr>\n",
       "      <th>997</th>\n",
       "      <td>sql</td>\n",
       "      <td>Программист c#  .Net Core  ASP.Net Core  .Net ...</td>\n",
       "      <td>42.0</td>\n",
       "      <td>NaN</td>\n",
       "      <td>9.33</td>\n",
       "      <td>BackEnd Developer .Net C#</td>\n",
       "    </tr>\n",
       "    <tr>\n",
       "      <th>998</th>\n",
       "      <td>sql</td>\n",
       "      <td>Python SQL R Data Science Statistics AI Machin...</td>\n",
       "      <td>NaN</td>\n",
       "      <td>NaN</td>\n",
       "      <td>16.08</td>\n",
       "      <td>Study Scientific Leader  Data Science and Adva...</td>\n",
       "    </tr>\n",
       "    <tr>\n",
       "      <th>999</th>\n",
       "      <td>sql</td>\n",
       "      <td>Junior Data Scientist/Data Analyst/Data Engine...</td>\n",
       "      <td>19.0</td>\n",
       "      <td>NaN</td>\n",
       "      <td>0.33</td>\n",
       "      <td>Technical Support Intern</td>\n",
       "    </tr>\n",
       "  </tbody>\n",
       "</table>\n",
       "<p>1000 rows × 6 columns</p>\n",
       "</div>"
      ],
      "text/plain": [
       "        job_title                                           hh_title   age  \\\n",
       "0    data analyst                                       Data analyst  22.0   \n",
       "1    data analyst                                       Data Analyst  21.0   \n",
       "2    data analyst                                       Data Analyst  30.0   \n",
       "3    data analyst                                       Data Analyst  24.0   \n",
       "4    data analyst                                       Data Analyst  27.0   \n",
       "..            ...                                                ...   ...   \n",
       "995           sql  Программист разработчик  эксперт по внедрению ...  51.0   \n",
       "996           sql                            Программист-разработчик  22.0   \n",
       "997           sql  Программист c#  .Net Core  ASP.Net Core  .Net ...  42.0   \n",
       "998           sql  Python SQL R Data Science Statistics AI Machin...   NaN   \n",
       "999           sql  Junior Data Scientist/Data Analyst/Data Engine...  19.0   \n",
       "\n",
       "       salary  exp. period                                      title of exp.  \n",
       "0         NaN         2.67                                       Data Analyst  \n",
       "1         NaN         0.83                                Junior Data Analyst  \n",
       "2         NaN         7.50                                       Data Analyst  \n",
       "3         NaN         4.92                                       Data Analyst  \n",
       "4    450000.0         3.25                      Business Intelligence Analyst  \n",
       "..        ...          ...                                                ...  \n",
       "995       NaN        25.42  Главный специалист Отдела перспективных технол...  \n",
       "996       NaN         1.58                                         Full Stack  \n",
       "997       NaN         9.33                          BackEnd Developer .Net C#  \n",
       "998       NaN        16.08  Study Scientific Leader  Data Science and Adva...  \n",
       "999       NaN         0.33                           Technical Support Intern  \n",
       "\n",
       "[1000 rows x 6 columns]"
      ]
     },
     "execution_count": 3,
     "metadata": {},
     "output_type": "execute_result"
    }
   ],
   "source": [
    "\n",
    "df = pd.read_csv(r'C:\\Users\\User\\OneDrive\\Рабочий стол\\data.csv', encoding = 'Windows-1251')\n",
    "df"
   ]
  },
  {
   "cell_type": "code",
   "execution_count": 4,
   "id": "940c2df1",
   "metadata": {},
   "outputs": [],
   "source": [
    "X = df[['age', 'salary', 'exp. period' ]]\n",
    "X = X.fillna(0)"
   ]
  },
  {
   "cell_type": "code",
   "execution_count": 5,
   "id": "0a1325e8",
   "metadata": {},
   "outputs": [],
   "source": [
    "y = df['job_title']\n",
    "y = y.fillna(0)"
   ]
  },
  {
   "cell_type": "code",
   "execution_count": 6,
   "id": "bb974db1",
   "metadata": {},
   "outputs": [],
   "source": [
    "Xtrain, Xtest, ytrain, ytest = train_test_split(X,y, test_size = 0.8, stratify = y)"
   ]
  },
  {
   "cell_type": "code",
   "execution_count": 7,
   "id": "4d9258ee",
   "metadata": {},
   "outputs": [],
   "source": [
    "#GaussianNB\n",
    "\n",
    "model = GaussianNB()"
   ]
  },
  {
   "cell_type": "code",
   "execution_count": 8,
   "id": "a3d0b550",
   "metadata": {
    "scrolled": true
   },
   "outputs": [
    {
     "data": {
      "text/plain": [
       "GaussianNB()"
      ]
     },
     "execution_count": 8,
     "metadata": {},
     "output_type": "execute_result"
    }
   ],
   "source": [
    "model.fit(Xtrain, ytrain)"
   ]
  },
  {
   "cell_type": "code",
   "execution_count": 9,
   "id": "4a63a062",
   "metadata": {},
   "outputs": [
    {
     "data": {
      "text/plain": [
       "0.29125"
      ]
     },
     "execution_count": 9,
     "metadata": {},
     "output_type": "execute_result"
    }
   ],
   "source": [
    "ymodel = model.predict(Xtest)\n",
    "accuracy_score(ytest, ymodel)"
   ]
  },
  {
   "cell_type": "code",
   "execution_count": 10,
   "id": "61f71937",
   "metadata": {},
   "outputs": [
    {
     "data": {
      "text/plain": [
       "0.344"
      ]
     },
     "execution_count": 10,
     "metadata": {},
     "output_type": "execute_result"
    }
   ],
   "source": [
    "#перекрестная проверка модели\n",
    "cross = cross_val_score(model, X, y, cv = 10)\n",
    "cross.mean()"
   ]
  },
  {
   "cell_type": "code",
   "execution_count": 11,
   "id": "defc70b7",
   "metadata": {},
   "outputs": [
    {
     "data": {
      "text/plain": [
       "KNeighborsClassifier(n_neighbors=3)"
      ]
     },
     "execution_count": 11,
     "metadata": {},
     "output_type": "execute_result"
    }
   ],
   "source": [
    "#KNeighborsClassifier\n",
    "model1 = KNeighborsClassifier(n_neighbors = 3)\n",
    "model1.fit(X,y)"
   ]
  },
  {
   "cell_type": "code",
   "execution_count": 12,
   "id": "486ecb73",
   "metadata": {},
   "outputs": [
    {
     "data": {
      "text/plain": [
       "0.29"
      ]
     },
     "execution_count": 12,
     "metadata": {},
     "output_type": "execute_result"
    }
   ],
   "source": [
    "ymodel1 = model.predict(X)\n",
    "accuracy_score(y, ymodel1)"
   ]
  },
  {
   "cell_type": "code",
   "execution_count": 13,
   "id": "a1cc0c6a",
   "metadata": {},
   "outputs": [
    {
     "data": {
      "text/plain": [
       "0.857"
      ]
     },
     "execution_count": 13,
     "metadata": {},
     "output_type": "execute_result"
    }
   ],
   "source": [
    "cross2 = cross_val_score(model1, X, y, cv = 10)\n",
    "cross2.mean()"
   ]
  },
  {
   "cell_type": "code",
   "execution_count": null,
   "id": "c010c26e",
   "metadata": {},
   "outputs": [],
   "source": []
  }
 ],
 "metadata": {
  "kernelspec": {
   "display_name": "Python 3",
   "language": "python",
   "name": "python3"
  },
  "language_info": {
   "codemirror_mode": {
    "name": "ipython",
    "version": 3
   },
   "file_extension": ".py",
   "mimetype": "text/x-python",
   "name": "python",
   "nbconvert_exporter": "python",
   "pygments_lexer": "ipython3",
   "version": "3.9.4"
  }
 },
 "nbformat": 4,
 "nbformat_minor": 5
}
